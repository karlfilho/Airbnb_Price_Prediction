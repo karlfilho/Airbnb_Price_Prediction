{
 "cells": [
  {
   "cell_type": "code",
   "execution_count": 4,
   "metadata": {},
   "outputs": [],
   "source": [
    "import sys\n",
    "sys.path.append(\"D:/portfolio/Airbnb_Price_Prediction\")\n",
    "\n",
    "from src.data.data_loader import DataLoader\n",
    "from src.data.data_preprocessing import DataPreprocessing\n",
    "import pandas as pd\n",
    "\n",
    "# data file paths\n",
    "frontpage_path = \"D:\\\\portfolio\\\\Airbnb_Price_Prediction\\\\src\\\\data\\\\raw\\\\frontpage.json\"\n",
    "rooms_path = \"D:\\\\portfolio\\\\Airbnb_Price_Prediction\\\\src\\\\data\\\\raw\\\\rooms.json\"\n"
   ]
  },
  {
   "cell_type": "markdown",
   "metadata": {},
   "source": [
    "## Loading the data\n"
   ]
  },
  {
   "cell_type": "code",
   "execution_count": 5,
   "metadata": {},
   "outputs": [],
   "source": [
    "# Loading the datasets\n",
    "data_loader = DataLoader(frontpage_path, rooms_path)\n",
    "\n",
    "frontpage_data = data_loader.load_data_frontpage()\n",
    "rooms_data = data_loader.load_data_rooms()"
   ]
  },
  {
   "cell_type": "markdown",
   "metadata": {},
   "source": [
    "### `frontpage` dataset\n",
    "\n",
    "This dataset contains the information gathered from the rooms at all the search pages.\n",
    "It contains:\n",
    "- `roomTitle`: the type of the room.\n",
    "- `roomPrice`: the price for a night.\n",
    "- `roomURL`: the url for the room page, used for merging in the next phase.\n",
    "- `hostType`: the class of the host."
   ]
  },
  {
   "cell_type": "code",
   "execution_count": 6,
   "metadata": {},
   "outputs": [
    {
     "name": "stdout",
     "output_type": "stream",
     "text": [
      "Frontpage shape: \n"
     ]
    }
   ],
   "source": [
    "print(\"Frontpage shape: \")\n"
   ]
  },
  {
   "cell_type": "markdown",
   "metadata": {},
   "source": [
    "### `rooms` dataset"
   ]
  },
  {
   "cell_type": "code",
   "execution_count": 7,
   "metadata": {},
   "outputs": [
    {
     "name": "stdout",
     "output_type": "stream",
     "text": [
      "Rooms shape: \n"
     ]
    }
   ],
   "source": [
    "print(\"Rooms shape: \")"
   ]
  },
  {
   "cell_type": "markdown",
   "metadata": {},
   "source": [
    "### merged dataset"
   ]
  },
  {
   "cell_type": "code",
   "execution_count": 8,
   "metadata": {},
   "outputs": [],
   "source": [
    "merged_data = data_loader.merge_data()"
   ]
  }
 ],
 "metadata": {
  "kernelspec": {
   "display_name": "airbnb",
   "language": "python",
   "name": "python3"
  },
  "language_info": {
   "codemirror_mode": {
    "name": "ipython",
    "version": 3
   },
   "file_extension": ".py",
   "mimetype": "text/x-python",
   "name": "python",
   "nbconvert_exporter": "python",
   "pygments_lexer": "ipython3",
   "version": "3.12.8"
  }
 },
 "nbformat": 4,
 "nbformat_minor": 2
}
